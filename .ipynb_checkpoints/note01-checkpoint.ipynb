{
 "cells": [
  {
   "cell_type": "markdown",
   "metadata": {},
   "source": [
    "# プログラムを動かしてみよう！"
   ]
  },
  {
   "cell_type": "markdown",
   "metadata": {},
   "source": [
    "このサイトでプログラムを書いて動かすことができます。\n",
    "\n",
    "まずは使い方をべんきょうしよう！\n",
    "\n",
    "下のボックスをえらんでから、Runをおしてみてね！"
   ]
  },
  {
   "cell_type": "code",
   "execution_count": null,
   "metadata": {},
   "outputs": [],
   "source": [
    "print(\"こんにちは\")\n",
    "print(\"プログラムを動かした\")"
   ]
  },
  {
   "cell_type": "markdown",
   "metadata": {},
   "source": [
    "``` markup\n",
    "こんにちは\n",
    "プログラムを動かした\n",
    "```\n",
    "\n",
    "と、ひょうじされたね。これでプログラムを動かすことができたよ。\n",
    "\n",
    "上のメニューには他にもたくさんのボタンがあるけど、Runしか使いません。\n",
    "\n",
    "ちなみにRun(ラン)っていうのはプログラムを動かす、といういみのえいごです。\n",
    "\n",
    "[次のページへいく](https://www.smartprog.xyz/firstprogram/what-is-program.md)"
   ]
  },
  {
   "cell_type": "code",
   "execution_count": null,
   "metadata": {
    "collapsed": true
   },
   "outputs": [],
   "source": []
  }
 ],
 "metadata": {
  "kernelspec": {
   "display_name": "Python 3",
   "language": "python",
   "name": "python3"
  },
  "language_info": {
   "codemirror_mode": {
    "name": "ipython",
    "version": 3
   },
   "file_extension": ".py",
   "mimetype": "text/x-python",
   "name": "python",
   "nbconvert_exporter": "python",
   "pygments_lexer": "ipython3",
   "version": "3.6.2"
  }
 },
 "nbformat": 4,
 "nbformat_minor": 2
}
