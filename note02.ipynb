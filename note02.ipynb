{
 "cells": [
  {
   "cell_type": "markdown",
   "metadata": {},
   "source": [
    "# Printで、もじや数をひょうじしてみよう！"
   ]
  },
  {
   "cell_type": "markdown",
   "metadata": {},
   "source": [
    "## まとめ \n",
    "``` Python\n",
    "print(\"もじ\")\n",
    "print('もじ')\n",
    "```\n",
    "で、もじをひょうじできる\n",
    "\n",
    "``` Python\n",
    "print(数)\n",
    "```\n",
    "で、数をひょうじできる"
   ]
  },
  {
   "cell_type": "code",
   "execution_count": null,
   "metadata": {
    "collapsed": true
   },
   "outputs": [],
   "source": [
    "print(\"こんにちは\")\n",
    "print('こんにちは')\n",
    "# ここを選んで、Runで動かしてみよう！"
   ]
  },
  {
   "cell_type": "markdown",
   "metadata": {},
   "source": [
    "きちんとひょうじできたかな？\n",
    "じゃあつぎは自分でプログラムを書いてひょうじしてみよう！"
   ]
  },
  {
   "cell_type": "code",
   "execution_count": null,
   "metadata": {
    "collapsed": true
   },
   "outputs": [],
   "source": [
    "# このボックスに同じように書いてRunしてみよう！\n"
   ]
  },
  {
   "cell_type": "markdown",
   "metadata": {},
   "source": [
    "次は数をひょうじしてみよう！"
   ]
  },
  {
   "cell_type": "code",
   "execution_count": null,
   "metadata": {
    "collapsed": true
   },
   "outputs": [],
   "source": [
    "print(10)\n",
    "# ここを選んで、Runで動かしてみよう！"
   ]
  },
  {
   "cell_type": "markdown",
   "metadata": {},
   "source": [
    "もしかしたら、print(\"10\")ではひょうじできないのかな？って思った人もいるかもしれないね。\n",
    "\n",
    "ためしてみよう！"
   ]
  },
  {
   "cell_type": "code",
   "execution_count": 3,
   "metadata": {},
   "outputs": [
    {
     "name": "stdout",
     "output_type": "stream",
     "text": [
      "10\n",
      "10\n"
     ]
    }
   ],
   "source": [
    "print(\"10\")\n",
    "print(10)"
   ]
  },
  {
   "cell_type": "markdown",
   "metadata": {},
   "source": [
    "ひょうじできたね。\n",
    "\n",
    "だけど、この2つはいみがちがうんだ。\n",
    "\n",
    "どうちがうかは、下のプログラムと結果をみてみよう"
   ]
  },
  {
   "cell_type": "code",
   "execution_count": 4,
   "metadata": {},
   "outputs": [
    {
     "name": "stdout",
     "output_type": "stream",
     "text": [
      "10 + 5\n",
      "15\n"
     ]
    }
   ],
   "source": [
    "print(\"10 + 5\")\n",
    "print(10 + 5)"
   ]
  },
  {
   "cell_type": "markdown",
   "metadata": {},
   "source": [
    "かしこい人はこの結果でわかったかもしれないけど、ちがいは\n",
    "\n",
    "**「もじ」としての10なのか、「数」としての10なのか**だ。\n",
    "\n",
    "少しむずかしい話になるからくわしくは次のページでべんきょうしよう！\n",
    "\n",
    "[次のページへ](https://www.smartprog.xyz/firstprogram/next.md)"
   ]
  },
  {
   "cell_type": "code",
   "execution_count": null,
   "metadata": {
    "collapsed": true
   },
   "outputs": [],
   "source": []
  }
 ],
 "metadata": {
  "kernelspec": {
   "display_name": "Python 3",
   "language": "python",
   "name": "python3"
  },
  "language_info": {
   "codemirror_mode": {
    "name": "ipython",
    "version": 3
   },
   "file_extension": ".py",
   "mimetype": "text/x-python",
   "name": "python",
   "nbconvert_exporter": "python",
   "pygments_lexer": "ipython3",
   "version": "3.6.2"
  }
 },
 "nbformat": 4,
 "nbformat_minor": 2
}
